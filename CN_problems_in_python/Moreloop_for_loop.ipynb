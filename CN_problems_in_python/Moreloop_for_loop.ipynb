{
 "cells": [
  {
   "cell_type": "markdown",
   "id": "5a0bfffc",
   "metadata": {},
   "source": [
    "# More on loop(For loop)"
   ]
  },
  {
   "cell_type": "markdown",
   "id": "0f6bb447",
   "metadata": {},
   "source": [
    "Binary Pattern\n",
    "\n",
    "Print the following pattern for the given number of rows.\n",
    "Pattern for N = 4\n",
    "\n",
    "1111<br>\n",
    "000<br>\n",
    "11<br>\n",
    "0<br>"
   ]
  },
  {
   "cell_type": "code",
   "execution_count": null,
   "id": "051fd505",
   "metadata": {},
   "outputs": [],
   "source": [
    "n=int(input())\n",
    "for i in range(1,n+1):\n",
    "    if i%2==0:\n",
    "        for j in range(n-i+1,0,-1):\n",
    "            print(0,end=\"\")\n",
    "    else:\n",
    "        for j in range(n-i+1,0,-1):\n",
    "            print(1,end=\"\")\n",
    "    print()\n"
   ]
  },
  {
   "attachments": {
    "image.png": {
     "image/png": "[encoded data removed]"
    }
   },
   "cell_type": "markdown",
   "id": "3830ac2d",
   "metadata": {},
   "source": [
    "Print Number Pyramid\n",
    "Print the following pattern for a given n.\n",
    "For eg. N = 6\n",
    "![image.png](attachment:image.png)"
   ]
  },
  {
   "cell_type": "code",
   "execution_count": null,
   "id": "f74fd3af",
   "metadata": {},
   "outputs": [],
   "source": [
    "n=int(input())\n",
    "n1=n\n",
    "n2=n-1\n",
    "for i in range(1,n1+1):\n",
    "    for spaces in range(0,i-1):\n",
    "        print(\" \",end=\"\")\n",
    "    for num in range(i,n1+1):\n",
    "        print(num,end=\"\")\n",
    "    print()\n",
    "for i in range(1,n2+1):\n",
    "    for spaces in range(n2-i,0,-1):\n",
    "        print(\" \",end=\"\")\n",
    "    for num in range(n2-i+1,n+1):\n",
    "        print(num,end=\"\")\n",
    "    print()"
   ]
  },
  {
   "attachments": {
    "000000000000diamond3726.png": {
     "image/png": "[encoded data removed]"
    }
   },
   "cell_type": "markdown",
   "id": "667418e1",
   "metadata": {},
   "source": [
    "**Diamond of Stars\n",
    "Print the following pattern for the given number of rows.\n",
    "Note: N is always odd.**\n",
    "![000000000000diamond3726.png](attachment:000000000000diamond3726.png)\n",
    "\n",
    "Pattern for N = 5"
   ]
  },
  {
   "cell_type": "code",
   "execution_count": null,
   "id": "861a06fd",
   "metadata": {},
   "outputs": [],
   "source": [
    "n=int(input())\n",
    "i=1\n",
    "n1=(n+1)//2\n",
    "n2=(n1-1)\n",
    "for i in range(1,n1+1):\n",
    "    for spaces in range(1,n1-i+1):\n",
    "        print(\" \",end=\"\")\n",
    "    for stars in range(1,2*i):\n",
    "        print(\"*\",end=\"\")\n",
    "    print()\n",
    "for i in range(n2,0,-1):\n",
    "    for spaces in range(1,n2-i+1+1):\n",
    "        print(\" \",end=\"\")\n",
    "    for stars in range(1,2*i):\n",
    "        print(\"*\",end=\"\")\n",
    "    print() "
   ]
  },
  {
   "attachments": {
    "image.png": {
     "image/png": "[encoded data removed]"
    }
   },
   "cell_type": "markdown",
   "id": "37a576c2",
   "metadata": {},
   "source": [
    "Rectangular numbers\n",
    "Print the following pattern for the given number of rows.\n",
    "Pattern for N = 4\n",
    "![image.png](attachment:image.png)"
   ]
  },
  {
   "cell_type": "code",
   "execution_count": null,
   "id": "53e597c2",
   "metadata": {},
   "outputs": [],
   "source": [
    "n=int(input())\n",
    "s=n*2-1\n",
    "for i in range(0,(s//2)+1):\n",
    "    m=n\n",
    "    for j in range(0,i):#decreasing part\n",
    "        print(m,end=\"\")\n",
    "        m=m-1\n",
    "    for k in range(0,s-2*i):#constant\n",
    "        print(n-i,end=\"\")\n",
    "    m=n-i+1\n",
    "    for l in range(0,i):#increasing\n",
    "        print(m,end=\"\")\n",
    "        m=m+1\n",
    "    print()\n",
    "for i in range(s//2-1,-1,-1):\n",
    "    m=n\n",
    "    for j in range(0,i):#decreasing part\n",
    "        print(m,end=\"\")\n",
    "        m=m-1\n",
    "    for k in range(0,s-2*i):#constant\n",
    "        print(n-i,end=\"\")\n",
    "    m=n-i+1\n",
    "    for l in range(0,i):#increasing\n",
    "        print(m,end=\"\")\n",
    "        m=m+1\n",
    "    print()"
   ]
  },
  {
   "attachments": {
    "image.png": {
     "image/png": "[encoded data removed]"
    }
   },
   "cell_type": "markdown",
   "id": "3f37922f",
   "metadata": {},
   "source": [
    "Print the pattern\n",
    "Print the following pattern for the given number of rows.\n",
    "Pattern for N = 5\n",
    "![image.png](attachment:image.png)"
   ]
  },
  {
   "cell_type": "code",
   "execution_count": null,
   "id": "b3be22b6",
   "metadata": {},
   "outputs": [],
   "source": [
    "n=int(input())\n",
    "even_n=0\n",
    "odd_n=0\n",
    "if n%2==0:\n",
    "    even_n=n-1\n",
    "else:\n",
    "    odd_n=n-2\n",
    "\n",
    "for i in range(0,n,2):\n",
    "    for j in range(i*n+1,n+(i*n+1)):\n",
    "        print(j,end=\" \")\n",
    "    print()\n",
    "\n",
    "for i in range(even_n+odd_n,0,-2):\n",
    "    for j in range(i*n+1,n+(i*n+1)):\n",
    "        print(j,end=\" \")\n",
    "    print()\n",
    "#####logic##########\n",
    "#0*n+1\n",
    "#2\n",
    "#4\n",
    "#3*n+1\n",
    "#1"
   ]
  }
 ],
 "metadata": {
  "kernelspec": {
   "display_name": "Python 3 (ipykernel)",
   "language": "python",
   "name": "python3"
  },
  "language_info": {
   "codemirror_mode": {
    "name": "ipython",
    "version": 3
   },
   "file_extension": ".py",
   "mimetype": "text/x-python",
   "name": "python",
   "nbconvert_exporter": "python",
   "pygments_lexer": "ipython3",
   "version": "3.9.7"
  }
 },
 "nbformat": 4,
 "nbformat_minor": 5
}
