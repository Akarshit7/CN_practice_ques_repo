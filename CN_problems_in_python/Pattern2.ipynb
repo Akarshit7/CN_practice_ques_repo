{
 "cells": [
  {
   "cell_type": "markdown",
   "id": "bb655778",
   "metadata": {},
   "source": [
    "# Pattern 2"
   ]
  },
  {
   "cell_type": "raw",
   "id": "bf16cf4e",
   "metadata": {},
   "source": [
    "Code : Inverted Number Pattern\n",
    "Print the following pattern for the given N number of rows.\n",
    "Pattern for N = 4\n",
    "4444\n",
    "333\n",
    "22\n",
    "1"
   ]
  },
  {
   "cell_type": "code",
   "execution_count": null,
   "id": "313cb2eb",
   "metadata": {},
   "outputs": [],
   "source": [
    "N=int(input())\n",
    "i=1\n",
    "num=N            \n",
    "while i<=N:\n",
    "    j=1\n",
    "    while j<=N-i+1:\n",
    "        print(num,end=\"\")\n",
    "        j=j+1\n",
    "    print()\n",
    "    i=i+1\n",
    "    num=num-1"
   ]
  },
  {
   "cell_type": "raw",
   "id": "e50f16f9",
   "metadata": {},
   "source": [
    "Code : Mirror Number Pattern\n",
    "Print the following pattern for the given N number of rows.\n",
    "Pattern for N = 4\n",
    "    1\n",
    "   12\n",
    "  123\n",
    " 1234"
   ]
  },
  {
   "cell_type": "code",
   "execution_count": null,
   "id": "46da7173",
   "metadata": {},
   "outputs": [],
   "source": [
    "N=int(input())\n",
    "i=1\n",
    "while i<=N:\n",
    "    spaces=1\n",
    "    while spaces<=N-i:\n",
    "        print(\" \",end=\"\")\n",
    "        spaces+=1\n",
    "    num=1\n",
    "    while num<=i:\n",
    "        print(num,end=\"\")\n",
    "        num+=1\n",
    "    print()\n",
    "    i=i+1"
   ]
  },
  {
   "cell_type": "raw",
   "id": "fbe784a6",
   "metadata": {},
   "source": [
    "Code : Star Pattern\n",
    "Print the following pattern\n",
    "Pattern for N = 4\n",
    "   *\n",
    "  ***\n",
    " *****\n",
    "*******\n",
    "The dots represent spaces."
   ]
  },
  {
   "cell_type": "code",
   "execution_count": null,
   "id": "efdc2c60",
   "metadata": {},
   "outputs": [],
   "source": [
    "N=int(input())\n",
    "i=1\n",
    "while i<=N:\n",
    "    spaces=1\n",
    "    while spaces<=N-i:\n",
    "        print(\" \",end=\"\")\n",
    "        spaces+=1\n",
    "    j=1\n",
    "    while j<=i:\n",
    "        print(\"*\",end=\"\")\n",
    "        j+=1\n",
    "    p=i-1   \n",
    "    while p>=1:\n",
    "        print(\"*\",end=\"\")\n",
    "        p=p-1\n",
    "    print()\n",
    "    i=i+1"
   ]
  },
  {
   "attachments": {
    "0000000000003725.png": {
     "image/png": "[encoded data removed]"
    }
   },
   "cell_type": "markdown",
   "id": "4a1749dc",
   "metadata": {},
   "source": [
    "**Code : Triangle of Numbers\n",
    "Print the following pattern for the given number of rows.\n",
    "Pattern for N = 4**\n",
    "\n",
    "\n",
    "\n",
    "![0000000000003725.png](attachment:0000000000003725.png)\n"
   ]
  },
  {
   "cell_type": "code",
   "execution_count": null,
   "id": "e5abf390",
   "metadata": {},
   "outputs": [],
   "source": [
    "N=int(input())\n",
    "i=1\n",
    "while i<=N:\n",
    "    spaces=1 #spaces\n",
    "    while spaces<=N-i:\n",
    "        print(\" \",end=\"\")\n",
    "        spaces+=1\n",
    "    j=1   #numbers\n",
    "    while j<=i:\n",
    "        print(i+j-1,end=\"\")\n",
    "        j+=1\n",
    "    p=i-1   #decreading numbers\n",
    "    while p>=1:\n",
    "        print(i+p-1,end=\"\")\n",
    "        p=p-1\n",
    "    print()\n",
    "    i=i+1"
   ]
  },
  {
   "attachments": {
    "000000000000diamond3726.png": {
     "image/png": "[encoded data removed]"
    }
   },
   "cell_type": "markdown",
   "id": "64c40fa8",
   "metadata": {},
   "source": [
    "**Code : Diamond of stars\n",
    "Print the following pattern for the given number of rows.\n",
    "Note: N is always odd.\n",
    "Pattern for N = 5**\n",
    "\n",
    "\n",
    "\n",
    "![000000000000diamond3726.png](attachment:000000000000diamond3726.png)\n"
   ]
  },
  {
   "cell_type": "code",
   "execution_count": null,
   "id": "3d72c8e2",
   "metadata": {},
   "outputs": [],
   "source": [
    "N=int(input())\n",
    "i=1\n",
    "n1=(N+1)/2\n",
    "n2=(n1-1)\n",
    "while i<=n1:\n",
    "    spaces=1\n",
    "    while spaces<=n1-i:\n",
    "        print(\" \",end=\"\")\n",
    "        spaces+=1\n",
    "    star=1\n",
    "    while star<=(2*i)-1:\n",
    "        print(\"*\",end=\"\")\n",
    "        star+=1\n",
    "    print()\n",
    "    i=i+1\n",
    "i=n2\n",
    "x=1\n",
    "while x<=n2:\n",
    "    spaces=1\n",
    "    while spaces<=n2-i+1:\n",
    "        print(\" \",end=\"\")\n",
    "        spaces+=1\n",
    "    star=1\n",
    "    while star<=(2*i)-1:\n",
    "        print(\"*\",end=\"\")\n",
    "        star+=1\n",
    "    print()\n",
    "    x=x+1\n",
    "    i=i-1"
   ]
  },
  {
   "cell_type": "raw",
   "id": "4e7ea45d",
   "metadata": {},
   "source": [
    "Number Pattern\n",
    "Print the following pattern for n number of rows.\n",
    "For eg. N = 5\n",
    "\n",
    "1        1\n",
    "12      21\n",
    "123    321\n",
    "1234  4321\n",
    "1234554321"
   ]
  },
  {
   "cell_type": "code",
   "execution_count": null,
   "id": "e92c14ec",
   "metadata": {},
   "outputs": [],
   "source": [
    "N=int(input())\n",
    "i=1\n",
    "x=N\n",
    "while i<=N:\n",
    "    j=1\n",
    "    while j<=i:\n",
    "        print(j,end=\"\")\n",
    "        j+=1\n",
    "    spaces=1\n",
    "    while spaces<=(x*2)-2:\n",
    "        print(\" \",end=\"\")\n",
    "        spaces+=1\n",
    "    num=1\n",
    "    while num<=i:\n",
    "        print(i-num+1,end=\"\")\n",
    "        num+=1\n",
    "    print()\n",
    "    i=i+1\n",
    "    x-=1"
   ]
  },
  {
   "cell_type": "raw",
   "id": "6b3ed65e",
   "metadata": {},
   "source": [
    "Zeros and Stars Pattern\n",
    "Print the following pattern\n",
    "Pattern for N = 4\n",
    "*000*000*\n",
    "0*00*00*0\n",
    "00*0*0*00\n",
    "000***000"
   ]
  },
  {
   "cell_type": "code",
   "execution_count": null,
   "id": "faca42a3",
   "metadata": {},
   "outputs": [],
   "source": [
    "N=int(input())\n",
    "i=1\n",
    "while i<=N:    \n",
    "    j=1  \n",
    "    while j<=N:     \n",
    "        if i==j:  \n",
    "            print(\"*\", end='')  \n",
    "        else :  \n",
    "            print(\"0\", end='')  \n",
    "        j=j+1  \n",
    "    j=j-1;  \n",
    "    print(\"*\", end='')  \n",
    "    while j>=1:  \n",
    "        if i==j:  \n",
    "            print(\"*\", end='')  \n",
    "        else:  \n",
    "            print(\"0\", end='')  \n",
    "        j=j-1  \n",
    "    print(\"\");  \n",
    "    i=i+1"
   ]
  },
  {
   "cell_type": "markdown",
   "id": "d2ffebd4",
   "metadata": {},
   "source": [
    "Pyramid Number Pattern\n",
    "Print the following pattern for the given number of rows.\n",
    "Pattern for N = 4\n",
    "   1\n",
    "  212\n",
    " 32123\n",
    "4321234\n",
    "Input format : N (Total no. of rows)\n",
    "Output format : Pattern in N lines"
   ]
  },
  {
   "cell_type": "code",
   "execution_count": null,
   "id": "8d070259",
   "metadata": {},
   "outputs": [],
   "source": [
    "N=int(input())\n",
    "i=1\n",
    "while i<=N:\n",
    "    spaces=1#for spaces\n",
    "    while spaces<=N-i:\n",
    "        print(\" \",end=\"\")\n",
    "        spaces+=1\n",
    "    num=1\n",
    "    while num<=i:\n",
    "        print(i-num+1,end=\"\")\n",
    "        num+=1\n",
    "    p=i-1\n",
    "    x=2\n",
    "    j=1\n",
    "    while p>=1:\n",
    "        print(x+j-1,end=\"\")\n",
    "        j=j+1\n",
    "        p=p-1\n",
    "    print()\n",
    "    i=i+1"
   ]
  },
  {
   "cell_type": "raw",
   "id": "7f974ad2",
   "metadata": {},
   "source": [
    "Arrow pattern\n",
    "Print the following pattern for the given number of rows.\n",
    "Assume N is always odd.\n",
    "Note : There is space after every star.\n",
    "Pattern for N = 7\n",
    "*\n",
    " * *\n",
    "   * * *\n",
    "     * * * *\n",
    "   * * *\n",
    " * *\n",
    "*"
   ]
  },
  {
   "cell_type": "code",
   "execution_count": null,
   "id": "a8fd4d7c",
   "metadata": {},
   "outputs": [],
   "source": [
    "N=int(input())\n",
    "i=1\n",
    "n1=(N+1)/2\n",
    "n2=(n1-1)\n",
    "while i<=n1:\n",
    "    spaces=1\n",
    "    while spaces<=i-1:\n",
    "        print(\" \",end=\"\")\n",
    "        spaces+=1\n",
    "    star=1\n",
    "    while star<=i:\n",
    "        print(\"* \",end=\"\")\n",
    "        star+=1\n",
    "    print()\n",
    "    i=i+1\n",
    "i=1\n",
    "while i<=n2:\n",
    "    spaces=1\n",
    "    while spaces<=n2-i:\n",
    "        print(\" \",end=\"\")\n",
    "        spaces+=1\n",
    "    star=1\n",
    "    while star<=n2-i+1:\n",
    "        print(\"* \",end=\"\")\n",
    "        star+=1\n",
    "    print()\n",
    "    i+=1"
   ]
  }
 ],
 "metadata": {
  "kernelspec": {
   "display_name": "Python 3 (ipykernel)",
   "language": "python",
   "name": "python3"
  },
  "language_info": {
   "codemirror_mode": {
    "name": "ipython",
    "version": 3
   },
   "file_extension": ".py",
   "mimetype": "text/x-python",
   "name": "python",
   "nbconvert_exporter": "python",
   "pygments_lexer": "ipython3",
   "version": "3.9.7"
  }
 },
 "nbformat": 4,
 "nbformat_minor": 5
}
